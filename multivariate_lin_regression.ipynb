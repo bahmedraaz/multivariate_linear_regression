{
 "cells": [
  {
   "cell_type": "markdown",
   "metadata": {},
   "source": [
    "# Comparison of Multivariate Linear Regression Models"
   ]
  },
  {
   "cell_type": "code",
   "execution_count": 1,
   "metadata": {},
   "outputs": [],
   "source": [
    "# Import some common packages\n",
    "import os\n",
    "import numpy as np\n",
    "import matplotlib\n",
    "import matplotlib.pyplot as plt\n",
    "import pandas as pd\n",
    "\n",
    "# to make this notebook's output stable across runs\n",
    "np.random.seed(42)\n",
    "\n",
    "datasetURL = \"https://www.kaggle.com/budincsevity/szeged-weather#weatherHistory.csv\"; # required url to download for CSV file. \n",
    "\n",
    "WEATHER_PATH = \"datasets/weather\"\n",
    "def load_weather_data(weather_path=WEATHER_PATH):\n",
    "    csv_path = os.path.join(weather_path, \"weatherHistory.csv\")\n",
    "    return pd.read_csv(csv_path)\n",
    "\n",
    "weather = load_weather_data()"
   ]
  },
  {
   "cell_type": "code",
   "execution_count": 2,
   "metadata": {},
   "outputs": [
    {
     "data": {
      "text/html": [
       "<div>\n",
       "<style scoped>\n",
       "    .dataframe tbody tr th:only-of-type {\n",
       "        vertical-align: middle;\n",
       "    }\n",
       "\n",
       "    .dataframe tbody tr th {\n",
       "        vertical-align: top;\n",
       "    }\n",
       "\n",
       "    .dataframe thead th {\n",
       "        text-align: right;\n",
       "    }\n",
       "</style>\n",
       "<table border=\"1\" class=\"dataframe\">\n",
       "  <thead>\n",
       "    <tr style=\"text-align: right;\">\n",
       "      <th></th>\n",
       "      <th>Formatted Date</th>\n",
       "      <th>Summary</th>\n",
       "      <th>Precip Type</th>\n",
       "      <th>Temperature</th>\n",
       "      <th>Apparent Temperature</th>\n",
       "      <th>Humidity</th>\n",
       "      <th>Wind Speed (km/h)</th>\n",
       "      <th>Wind Bearing (degrees)</th>\n",
       "      <th>Visibility (km)</th>\n",
       "      <th>Loud Cover</th>\n",
       "      <th>Pressure (millibars)</th>\n",
       "      <th>Daily Summary</th>\n",
       "    </tr>\n",
       "  </thead>\n",
       "  <tbody>\n",
       "    <tr>\n",
       "      <th>0</th>\n",
       "      <td>2006-04-01 00:00:00.000 +0200</td>\n",
       "      <td>Partly Cloudy</td>\n",
       "      <td>rain</td>\n",
       "      <td>9.472222</td>\n",
       "      <td>7.388889</td>\n",
       "      <td>0.89</td>\n",
       "      <td>14.1197</td>\n",
       "      <td>251</td>\n",
       "      <td>15.8263</td>\n",
       "      <td>0</td>\n",
       "      <td>1015.13</td>\n",
       "      <td>Partly cloudy throughout the day.</td>\n",
       "    </tr>\n",
       "    <tr>\n",
       "      <th>1</th>\n",
       "      <td>2006-04-01 01:00:00.000 +0200</td>\n",
       "      <td>Partly Cloudy</td>\n",
       "      <td>rain</td>\n",
       "      <td>9.355556</td>\n",
       "      <td>7.227778</td>\n",
       "      <td>0.86</td>\n",
       "      <td>14.2646</td>\n",
       "      <td>259</td>\n",
       "      <td>15.8263</td>\n",
       "      <td>0</td>\n",
       "      <td>1015.63</td>\n",
       "      <td>Partly cloudy throughout the day.</td>\n",
       "    </tr>\n",
       "    <tr>\n",
       "      <th>2</th>\n",
       "      <td>2006-04-01 02:00:00.000 +0200</td>\n",
       "      <td>Mostly Cloudy</td>\n",
       "      <td>rain</td>\n",
       "      <td>9.377778</td>\n",
       "      <td>9.377778</td>\n",
       "      <td>0.89</td>\n",
       "      <td>3.9284</td>\n",
       "      <td>204</td>\n",
       "      <td>14.9569</td>\n",
       "      <td>0</td>\n",
       "      <td>1015.94</td>\n",
       "      <td>Partly cloudy throughout the day.</td>\n",
       "    </tr>\n",
       "    <tr>\n",
       "      <th>3</th>\n",
       "      <td>2006-04-01 03:00:00.000 +0200</td>\n",
       "      <td>Partly Cloudy</td>\n",
       "      <td>rain</td>\n",
       "      <td>8.288889</td>\n",
       "      <td>5.944444</td>\n",
       "      <td>0.83</td>\n",
       "      <td>14.1036</td>\n",
       "      <td>269</td>\n",
       "      <td>15.8263</td>\n",
       "      <td>0</td>\n",
       "      <td>1016.41</td>\n",
       "      <td>Partly cloudy throughout the day.</td>\n",
       "    </tr>\n",
       "    <tr>\n",
       "      <th>4</th>\n",
       "      <td>2006-04-01 04:00:00.000 +0200</td>\n",
       "      <td>Mostly Cloudy</td>\n",
       "      <td>rain</td>\n",
       "      <td>8.755556</td>\n",
       "      <td>6.977778</td>\n",
       "      <td>0.83</td>\n",
       "      <td>11.0446</td>\n",
       "      <td>259</td>\n",
       "      <td>15.8263</td>\n",
       "      <td>0</td>\n",
       "      <td>1016.51</td>\n",
       "      <td>Partly cloudy throughout the day.</td>\n",
       "    </tr>\n",
       "  </tbody>\n",
       "</table>\n",
       "</div>"
      ],
      "text/plain": [
       "                  Formatted Date        Summary Precip Type  Temperature  \\\n",
       "0  2006-04-01 00:00:00.000 +0200  Partly Cloudy        rain     9.472222   \n",
       "1  2006-04-01 01:00:00.000 +0200  Partly Cloudy        rain     9.355556   \n",
       "2  2006-04-01 02:00:00.000 +0200  Mostly Cloudy        rain     9.377778   \n",
       "3  2006-04-01 03:00:00.000 +0200  Partly Cloudy        rain     8.288889   \n",
       "4  2006-04-01 04:00:00.000 +0200  Mostly Cloudy        rain     8.755556   \n",
       "\n",
       "   Apparent Temperature  Humidity  Wind Speed (km/h)  Wind Bearing (degrees)  \\\n",
       "0              7.388889      0.89            14.1197                     251   \n",
       "1              7.227778      0.86            14.2646                     259   \n",
       "2              9.377778      0.89             3.9284                     204   \n",
       "3              5.944444      0.83            14.1036                     269   \n",
       "4              6.977778      0.83            11.0446                     259   \n",
       "\n",
       "   Visibility (km)  Loud Cover  Pressure (millibars)  \\\n",
       "0          15.8263           0               1015.13   \n",
       "1          15.8263           0               1015.63   \n",
       "2          14.9569           0               1015.94   \n",
       "3          15.8263           0               1016.41   \n",
       "4          15.8263           0               1016.51   \n",
       "\n",
       "                       Daily Summary  \n",
       "0  Partly cloudy throughout the day.  \n",
       "1  Partly cloudy throughout the day.  \n",
       "2  Partly cloudy throughout the day.  \n",
       "3  Partly cloudy throughout the day.  \n",
       "4  Partly cloudy throughout the day.  "
      ]
     },
     "execution_count": 2,
     "metadata": {},
     "output_type": "execute_result"
    }
   ],
   "source": [
    "weather.head()"
   ]
  },
  {
   "cell_type": "code",
   "execution_count": 3,
   "metadata": {},
   "outputs": [
    {
     "name": "stdout",
     "output_type": "stream",
     "text": [
      "<class 'pandas.core.frame.DataFrame'>\n",
      "RangeIndex: 96453 entries, 0 to 96452\n",
      "Data columns (total 12 columns):\n",
      "Formatted Date            96453 non-null object\n",
      "Summary                   96453 non-null object\n",
      "Precip Type               95936 non-null object\n",
      "Temperature               96453 non-null float64\n",
      "Apparent Temperature      96453 non-null float64\n",
      "Humidity                  96453 non-null float64\n",
      "Wind Speed (km/h)         96453 non-null float64\n",
      "Wind Bearing (degrees)    96453 non-null int64\n",
      "Visibility (km)           96453 non-null float64\n",
      "Loud Cover                96453 non-null int64\n",
      "Pressure (millibars)      96453 non-null float64\n",
      "Daily Summary             96453 non-null object\n",
      "dtypes: float64(6), int64(2), object(4)\n",
      "memory usage: 8.8+ MB\n",
      "\n",
      "The info() command shows that the size of the data set is 8.8+ MB\n",
      "\n"
     ]
    }
   ],
   "source": [
    "weather.info()\n",
    "print(\"\\nThe info() command shows that the size of the data set is 8.8+ MB\\n\")"
   ]
  },
  {
   "cell_type": "code",
   "execution_count": 4,
   "metadata": {},
   "outputs": [
    {
     "name": "stdout",
     "output_type": "stream",
     "text": [
      "\n",
      "The number of rows:  96453\n",
      "The number of features:  12\n",
      "\n",
      "The number of elements = (number of rows)*(number of columns): =  1157436\n"
     ]
    }
   ],
   "source": [
    "num_of_elements = weather.shape[0]*weather.shape[1]\n",
    "print(\"\\nThe number of rows: \", weather.shape[0])\n",
    "print(\"The number of features: \", weather.shape[1])\n",
    "print(\"\\nThe number of elements = (number of rows)*(number of columns): = \", num_of_elements)"
   ]
  },
  {
   "cell_type": "code",
   "execution_count": 5,
   "metadata": {
    "scrolled": true
   },
   "outputs": [
    {
     "data": {
      "text/html": [
       "<div>\n",
       "<style scoped>\n",
       "    .dataframe tbody tr th:only-of-type {\n",
       "        vertical-align: middle;\n",
       "    }\n",
       "\n",
       "    .dataframe tbody tr th {\n",
       "        vertical-align: top;\n",
       "    }\n",
       "\n",
       "    .dataframe thead th {\n",
       "        text-align: right;\n",
       "    }\n",
       "</style>\n",
       "<table border=\"1\" class=\"dataframe\">\n",
       "  <thead>\n",
       "    <tr style=\"text-align: right;\">\n",
       "      <th></th>\n",
       "      <th>Temperature</th>\n",
       "      <th>Apparent Temperature</th>\n",
       "      <th>Humidity</th>\n",
       "      <th>Wind Speed (km/h)</th>\n",
       "      <th>Wind Bearing (degrees)</th>\n",
       "      <th>Visibility (km)</th>\n",
       "      <th>Loud Cover</th>\n",
       "      <th>Pressure (millibars)</th>\n",
       "    </tr>\n",
       "  </thead>\n",
       "  <tbody>\n",
       "    <tr>\n",
       "      <th>count</th>\n",
       "      <td>96453.000000</td>\n",
       "      <td>96453.000000</td>\n",
       "      <td>96453.000000</td>\n",
       "      <td>96453.000000</td>\n",
       "      <td>96453.000000</td>\n",
       "      <td>96453.000000</td>\n",
       "      <td>96453.0</td>\n",
       "      <td>96453.000000</td>\n",
       "    </tr>\n",
       "    <tr>\n",
       "      <th>mean</th>\n",
       "      <td>11.932678</td>\n",
       "      <td>10.855029</td>\n",
       "      <td>0.734899</td>\n",
       "      <td>10.810640</td>\n",
       "      <td>187.509232</td>\n",
       "      <td>10.347325</td>\n",
       "      <td>0.0</td>\n",
       "      <td>1003.235956</td>\n",
       "    </tr>\n",
       "    <tr>\n",
       "      <th>std</th>\n",
       "      <td>9.551546</td>\n",
       "      <td>10.696847</td>\n",
       "      <td>0.195473</td>\n",
       "      <td>6.913571</td>\n",
       "      <td>107.383428</td>\n",
       "      <td>4.192123</td>\n",
       "      <td>0.0</td>\n",
       "      <td>116.969906</td>\n",
       "    </tr>\n",
       "    <tr>\n",
       "      <th>min</th>\n",
       "      <td>-21.822222</td>\n",
       "      <td>-27.716667</td>\n",
       "      <td>0.000000</td>\n",
       "      <td>0.000000</td>\n",
       "      <td>0.000000</td>\n",
       "      <td>0.000000</td>\n",
       "      <td>0.0</td>\n",
       "      <td>0.000000</td>\n",
       "    </tr>\n",
       "    <tr>\n",
       "      <th>25%</th>\n",
       "      <td>4.688889</td>\n",
       "      <td>2.311111</td>\n",
       "      <td>0.600000</td>\n",
       "      <td>5.828200</td>\n",
       "      <td>116.000000</td>\n",
       "      <td>8.339800</td>\n",
       "      <td>0.0</td>\n",
       "      <td>1011.900000</td>\n",
       "    </tr>\n",
       "    <tr>\n",
       "      <th>50%</th>\n",
       "      <td>12.000000</td>\n",
       "      <td>12.000000</td>\n",
       "      <td>0.780000</td>\n",
       "      <td>9.965900</td>\n",
       "      <td>180.000000</td>\n",
       "      <td>10.046400</td>\n",
       "      <td>0.0</td>\n",
       "      <td>1016.450000</td>\n",
       "    </tr>\n",
       "    <tr>\n",
       "      <th>75%</th>\n",
       "      <td>18.838889</td>\n",
       "      <td>18.838889</td>\n",
       "      <td>0.890000</td>\n",
       "      <td>14.135800</td>\n",
       "      <td>290.000000</td>\n",
       "      <td>14.812000</td>\n",
       "      <td>0.0</td>\n",
       "      <td>1021.090000</td>\n",
       "    </tr>\n",
       "    <tr>\n",
       "      <th>max</th>\n",
       "      <td>39.905556</td>\n",
       "      <td>39.344444</td>\n",
       "      <td>1.000000</td>\n",
       "      <td>63.852600</td>\n",
       "      <td>359.000000</td>\n",
       "      <td>16.100000</td>\n",
       "      <td>0.0</td>\n",
       "      <td>1046.380000</td>\n",
       "    </tr>\n",
       "  </tbody>\n",
       "</table>\n",
       "</div>"
      ],
      "text/plain": [
       "        Temperature  Apparent Temperature      Humidity  Wind Speed (km/h)  \\\n",
       "count  96453.000000          96453.000000  96453.000000       96453.000000   \n",
       "mean      11.932678             10.855029      0.734899          10.810640   \n",
       "std        9.551546             10.696847      0.195473           6.913571   \n",
       "min      -21.822222            -27.716667      0.000000           0.000000   \n",
       "25%        4.688889              2.311111      0.600000           5.828200   \n",
       "50%       12.000000             12.000000      0.780000           9.965900   \n",
       "75%       18.838889             18.838889      0.890000          14.135800   \n",
       "max       39.905556             39.344444      1.000000          63.852600   \n",
       "\n",
       "       Wind Bearing (degrees)  Visibility (km)  Loud Cover  \\\n",
       "count            96453.000000     96453.000000     96453.0   \n",
       "mean               187.509232        10.347325         0.0   \n",
       "std                107.383428         4.192123         0.0   \n",
       "min                  0.000000         0.000000         0.0   \n",
       "25%                116.000000         8.339800         0.0   \n",
       "50%                180.000000        10.046400         0.0   \n",
       "75%                290.000000        14.812000         0.0   \n",
       "max                359.000000        16.100000         0.0   \n",
       "\n",
       "       Pressure (millibars)  \n",
       "count          96453.000000  \n",
       "mean            1003.235956  \n",
       "std              116.969906  \n",
       "min                0.000000  \n",
       "25%             1011.900000  \n",
       "50%             1016.450000  \n",
       "75%             1021.090000  \n",
       "max             1046.380000  "
      ]
     },
     "execution_count": 5,
     "metadata": {},
     "output_type": "execute_result"
    }
   ],
   "source": [
    "weather.describe()"
   ]
  },
  {
   "cell_type": "markdown",
   "metadata": {},
   "source": [
    "## DATA DISCOVERY, CLEANING, AND SCALING"
   ]
  },
  {
   "cell_type": "code",
   "execution_count": 6,
   "metadata": {},
   "outputs": [
    {
     "data": {
      "text/plain": [
       "Temperature               1.000000\n",
       "Apparent Temperature      0.992629\n",
       "Humidity                 -0.632255\n",
       "Wind Speed (km/h)         0.008957\n",
       "Wind Bearing (degrees)    0.029988\n",
       "Visibility (km)           0.392847\n",
       "Loud Cover                     NaN\n",
       "Pressure (millibars)     -0.005447\n",
       "Name: Temperature, dtype: float64"
      ]
     },
     "execution_count": 6,
     "metadata": {},
     "output_type": "execute_result"
    }
   ],
   "source": [
    "# Data Discover\n",
    "corr_matrix = weather.corr()\n",
    "corr_matrix[\"Temperature\"]"
   ]
  },
  {
   "cell_type": "code",
   "execution_count": 7,
   "metadata": {
    "scrolled": false
   },
   "outputs": [
    {
     "name": "stdout",
     "output_type": "stream",
     "text": [
      "<class 'pandas.core.frame.DataFrame'>\n",
      "RangeIndex: 96453 entries, 0 to 96452\n",
      "Data columns (total 8 columns):\n",
      "Summary                   96453 non-null object\n",
      "Temperature               96453 non-null float64\n",
      "Apparent Temperature      96453 non-null float64\n",
      "Humidity                  96453 non-null float64\n",
      "Wind Speed (km/h)         96453 non-null float64\n",
      "Wind Bearing (degrees)    96453 non-null int64\n",
      "Visibility (km)           96453 non-null float64\n",
      "Pressure (millibars)      96453 non-null float64\n",
      "dtypes: float64(6), int64(1), object(1)\n",
      "memory usage: 5.9+ MB\n"
     ]
    },
    {
     "data": {
      "text/plain": [
       "array([[<matplotlib.axes._subplots.AxesSubplot object at 0x000000000FD1D278>,\n",
       "        <matplotlib.axes._subplots.AxesSubplot object at 0x000000000FD615C0>,\n",
       "        <matplotlib.axes._subplots.AxesSubplot object at 0x000000000FD8B8D0>],\n",
       "       [<matplotlib.axes._subplots.AxesSubplot object at 0x000000000FDB4BE0>,\n",
       "        <matplotlib.axes._subplots.AxesSubplot object at 0x000000000FDE0EF0>,\n",
       "        <matplotlib.axes._subplots.AxesSubplot object at 0x000000000FDE0F28>],\n",
       "       [<matplotlib.axes._subplots.AxesSubplot object at 0x000000000FE39518>,\n",
       "        <matplotlib.axes._subplots.AxesSubplot object at 0x000000000FE62828>,\n",
       "        <matplotlib.axes._subplots.AxesSubplot object at 0x000000000FE8BB38>]],\n",
       "      dtype=object)"
      ]
     },
     "execution_count": 7,
     "metadata": {},
     "output_type": "execute_result"
    },
    {
     "data": {
      "image/png": "[encoded data removed]",
      "text/plain": [
       "<Figure size 1440x1440 with 9 Axes>"
      ]
     },
     "metadata": {},
     "output_type": "display_data"
    }
   ],
   "source": [
    "# Data cleaning\n",
    "#weather = weather.drop(weather.columns[[0,2]], axis=1, inplace=True)\n",
    "weather = weather.drop(\"Formatted Date\", axis=1)\n",
    "weather = weather.drop(\"Loud Cover\", axis=1)\n",
    "weather = weather.drop(\"Precip Type\", axis=1)\n",
    "weather = weather.drop(\"Daily Summary\", axis=1)\n",
    "#weather = weather.drop(\"Summary\", axis=1)\n",
    "weather.info()\n",
    "weather.hist(bins=50, figsize=(20,20))"
   ]
  },
  {
   "cell_type": "code",
   "execution_count": 8,
   "metadata": {},
   "outputs": [
    {
     "data": {
      "text/html": [
       "<div>\n",
       "<style scoped>\n",
       "    .dataframe tbody tr th:only-of-type {\n",
       "        vertical-align: middle;\n",
       "    }\n",
       "\n",
       "    .dataframe tbody tr th {\n",
       "        vertical-align: top;\n",
       "    }\n",
       "\n",
       "    .dataframe thead th {\n",
       "        text-align: right;\n",
       "    }\n",
       "</style>\n",
       "<table border=\"1\" class=\"dataframe\">\n",
       "  <thead>\n",
       "    <tr style=\"text-align: right;\">\n",
       "      <th></th>\n",
       "      <th>Summary</th>\n",
       "      <th>Temperature</th>\n",
       "      <th>Apparent Temperature</th>\n",
       "      <th>Humidity</th>\n",
       "      <th>Wind Speed (km/h)</th>\n",
       "      <th>Wind Bearing (degrees)</th>\n",
       "      <th>Visibility (km)</th>\n",
       "      <th>Pressure (millibars)</th>\n",
       "    </tr>\n",
       "  </thead>\n",
       "  <tbody>\n",
       "    <tr>\n",
       "      <th>0</th>\n",
       "      <td>Partly Cloudy</td>\n",
       "      <td>9.472222</td>\n",
       "      <td>7.388889</td>\n",
       "      <td>0.89</td>\n",
       "      <td>14.1197</td>\n",
       "      <td>251</td>\n",
       "      <td>15.8263</td>\n",
       "      <td>1015.13</td>\n",
       "    </tr>\n",
       "    <tr>\n",
       "      <th>1</th>\n",
       "      <td>Partly Cloudy</td>\n",
       "      <td>9.355556</td>\n",
       "      <td>7.227778</td>\n",
       "      <td>0.86</td>\n",
       "      <td>14.2646</td>\n",
       "      <td>259</td>\n",
       "      <td>15.8263</td>\n",
       "      <td>1015.63</td>\n",
       "    </tr>\n",
       "    <tr>\n",
       "      <th>2</th>\n",
       "      <td>Mostly Cloudy</td>\n",
       "      <td>9.377778</td>\n",
       "      <td>9.377778</td>\n",
       "      <td>0.89</td>\n",
       "      <td>3.9284</td>\n",
       "      <td>204</td>\n",
       "      <td>14.9569</td>\n",
       "      <td>1015.94</td>\n",
       "    </tr>\n",
       "    <tr>\n",
       "      <th>3</th>\n",
       "      <td>Partly Cloudy</td>\n",
       "      <td>8.288889</td>\n",
       "      <td>5.944444</td>\n",
       "      <td>0.83</td>\n",
       "      <td>14.1036</td>\n",
       "      <td>269</td>\n",
       "      <td>15.8263</td>\n",
       "      <td>1016.41</td>\n",
       "    </tr>\n",
       "    <tr>\n",
       "      <th>4</th>\n",
       "      <td>Mostly Cloudy</td>\n",
       "      <td>8.755556</td>\n",
       "      <td>6.977778</td>\n",
       "      <td>0.83</td>\n",
       "      <td>11.0446</td>\n",
       "      <td>259</td>\n",
       "      <td>15.8263</td>\n",
       "      <td>1016.51</td>\n",
       "    </tr>\n",
       "  </tbody>\n",
       "</table>\n",
       "</div>"
      ],
      "text/plain": [
       "         Summary  Temperature  Apparent Temperature  Humidity  \\\n",
       "0  Partly Cloudy     9.472222              7.388889      0.89   \n",
       "1  Partly Cloudy     9.355556              7.227778      0.86   \n",
       "2  Mostly Cloudy     9.377778              9.377778      0.89   \n",
       "3  Partly Cloudy     8.288889              5.944444      0.83   \n",
       "4  Mostly Cloudy     8.755556              6.977778      0.83   \n",
       "\n",
       "   Wind Speed (km/h)  Wind Bearing (degrees)  Visibility (km)  \\\n",
       "0            14.1197                     251          15.8263   \n",
       "1            14.2646                     259          15.8263   \n",
       "2             3.9284                     204          14.9569   \n",
       "3            14.1036                     269          15.8263   \n",
       "4            11.0446                     259          15.8263   \n",
       "\n",
       "   Pressure (millibars)  \n",
       "0               1015.13  \n",
       "1               1015.63  \n",
       "2               1015.94  \n",
       "3               1016.41  \n",
       "4               1016.51  "
      ]
     },
     "execution_count": 8,
     "metadata": {},
     "output_type": "execute_result"
    }
   ],
   "source": [
    "weather.head()"
   ]
  },
  {
   "cell_type": "code",
   "execution_count": 9,
   "metadata": {},
   "outputs": [],
   "source": [
    "#%matplotlib inline\n",
    "#from pandas.tools.plotting import scatter_matrix\n",
    "#attributes = [\"Temperature\",\"Apparent Temperature\",\"Humidity\",\"Wind Speed (km/h)\",\"Wind Bearing (degrees)\",\"Visibility (km)\",\"Pressure (millibars)\"]\n",
    "#scatter_matrix(weather[attributes], figsize=(20,12))"
   ]
  },
  {
   "cell_type": "code",
   "execution_count": 10,
   "metadata": {
    "scrolled": true
   },
   "outputs": [
    {
     "data": {
      "text/plain": [
       "Temperature               1.000000\n",
       "Apparent Temperature      0.992629\n",
       "Visibility (km)           0.392847\n",
       "Wind Bearing (degrees)    0.029988\n",
       "Wind Speed (km/h)         0.008957\n",
       "Pressure (millibars)     -0.005447\n",
       "Humidity                 -0.632255\n",
       "Name: Temperature, dtype: float64"
      ]
     },
     "execution_count": 10,
     "metadata": {},
     "output_type": "execute_result"
    }
   ],
   "source": [
    "corr_matrix = weather.corr()\n",
    "corr_matrix[\"Temperature\"].sort_values(ascending=False)"
   ]
  },
  {
   "cell_type": "code",
   "execution_count": 11,
   "metadata": {},
   "outputs": [
    {
     "data": {
      "text/html": [
       "<div>\n",
       "<style scoped>\n",
       "    .dataframe tbody tr th:only-of-type {\n",
       "        vertical-align: middle;\n",
       "    }\n",
       "\n",
       "    .dataframe tbody tr th {\n",
       "        vertical-align: top;\n",
       "    }\n",
       "\n",
       "    .dataframe thead th {\n",
       "        text-align: right;\n",
       "    }\n",
       "</style>\n",
       "<table border=\"1\" class=\"dataframe\">\n",
       "  <thead>\n",
       "    <tr style=\"text-align: right;\">\n",
       "      <th></th>\n",
       "      <th>Summary</th>\n",
       "      <th>Temperature</th>\n",
       "      <th>Apparent Temperature</th>\n",
       "      <th>Humidity</th>\n",
       "      <th>Wind Speed (km/h)</th>\n",
       "      <th>Wind Bearing (degrees)</th>\n",
       "      <th>Visibility (km)</th>\n",
       "      <th>Pressure (millibars)</th>\n",
       "    </tr>\n",
       "  </thead>\n",
       "  <tbody>\n",
       "    <tr>\n",
       "      <th>0</th>\n",
       "      <td>19</td>\n",
       "      <td>9.472222</td>\n",
       "      <td>7.388889</td>\n",
       "      <td>0.89</td>\n",
       "      <td>14.1197</td>\n",
       "      <td>251</td>\n",
       "      <td>15.8263</td>\n",
       "      <td>1015.13</td>\n",
       "    </tr>\n",
       "    <tr>\n",
       "      <th>1</th>\n",
       "      <td>19</td>\n",
       "      <td>9.355556</td>\n",
       "      <td>7.227778</td>\n",
       "      <td>0.86</td>\n",
       "      <td>14.2646</td>\n",
       "      <td>259</td>\n",
       "      <td>15.8263</td>\n",
       "      <td>1015.63</td>\n",
       "    </tr>\n",
       "    <tr>\n",
       "      <th>2</th>\n",
       "      <td>17</td>\n",
       "      <td>9.377778</td>\n",
       "      <td>9.377778</td>\n",
       "      <td>0.89</td>\n",
       "      <td>3.9284</td>\n",
       "      <td>204</td>\n",
       "      <td>14.9569</td>\n",
       "      <td>1015.94</td>\n",
       "    </tr>\n",
       "    <tr>\n",
       "      <th>3</th>\n",
       "      <td>19</td>\n",
       "      <td>8.288889</td>\n",
       "      <td>5.944444</td>\n",
       "      <td>0.83</td>\n",
       "      <td>14.1036</td>\n",
       "      <td>269</td>\n",
       "      <td>15.8263</td>\n",
       "      <td>1016.41</td>\n",
       "    </tr>\n",
       "    <tr>\n",
       "      <th>4</th>\n",
       "      <td>17</td>\n",
       "      <td>8.755556</td>\n",
       "      <td>6.977778</td>\n",
       "      <td>0.83</td>\n",
       "      <td>11.0446</td>\n",
       "      <td>259</td>\n",
       "      <td>15.8263</td>\n",
       "      <td>1016.51</td>\n",
       "    </tr>\n",
       "  </tbody>\n",
       "</table>\n",
       "</div>"
      ],
      "text/plain": [
       "   Summary  Temperature  Apparent Temperature  Humidity  Wind Speed (km/h)  \\\n",
       "0       19     9.472222              7.388889      0.89            14.1197   \n",
       "1       19     9.355556              7.227778      0.86            14.2646   \n",
       "2       17     9.377778              9.377778      0.89             3.9284   \n",
       "3       19     8.288889              5.944444      0.83            14.1036   \n",
       "4       17     8.755556              6.977778      0.83            11.0446   \n",
       "\n",
       "   Wind Bearing (degrees)  Visibility (km)  Pressure (millibars)  \n",
       "0                     251          15.8263               1015.13  \n",
       "1                     259          15.8263               1015.63  \n",
       "2                     204          14.9569               1015.94  \n",
       "3                     269          15.8263               1016.41  \n",
       "4                     259          15.8263               1016.51  "
      ]
     },
     "execution_count": 11,
     "metadata": {},
     "output_type": "execute_result"
    }
   ],
   "source": [
    "# Feature Scaling\n",
    "from sklearn.pipeline import FeatureUnion\n",
    "from sklearn.preprocessing import LabelEncoder\n",
    "from sklearn.pipeline import Pipeline\n",
    "from sklearn.preprocessing import StandardScaler\n",
    "from sklearn.preprocessing import Imputer\n",
    "from sklearn.base import BaseEstimator, TransformerMixin\n",
    "\n",
    "labelEncoder = LabelEncoder()\n",
    "weather['Summary']= labelEncoder.fit_transform(weather['Summary'].astype(str))\n",
    "weather.head()"
   ]
  },
  {
   "cell_type": "code",
   "execution_count": 12,
   "metadata": {},
   "outputs": [
    {
     "data": {
      "text/html": [
       "<div>\n",
       "<style scoped>\n",
       "    .dataframe tbody tr th:only-of-type {\n",
       "        vertical-align: middle;\n",
       "    }\n",
       "\n",
       "    .dataframe tbody tr th {\n",
       "        vertical-align: top;\n",
       "    }\n",
       "\n",
       "    .dataframe thead th {\n",
       "        text-align: right;\n",
       "    }\n",
       "</style>\n",
       "<table border=\"1\" class=\"dataframe\">\n",
       "  <thead>\n",
       "    <tr style=\"text-align: right;\">\n",
       "      <th></th>\n",
       "      <th>Apparent Temperature</th>\n",
       "      <th>Humidity</th>\n",
       "      <th>Wind Speed (km/h)</th>\n",
       "      <th>Wind Bearing (degrees)</th>\n",
       "      <th>Visibility (km)</th>\n",
       "      <th>Pressure (millibars)</th>\n",
       "    </tr>\n",
       "  </thead>\n",
       "  <tbody>\n",
       "    <tr>\n",
       "      <th>0</th>\n",
       "      <td>7.388889</td>\n",
       "      <td>0.89</td>\n",
       "      <td>14.1197</td>\n",
       "      <td>251</td>\n",
       "      <td>15.8263</td>\n",
       "      <td>1015.13</td>\n",
       "    </tr>\n",
       "    <tr>\n",
       "      <th>1</th>\n",
       "      <td>7.227778</td>\n",
       "      <td>0.86</td>\n",
       "      <td>14.2646</td>\n",
       "      <td>259</td>\n",
       "      <td>15.8263</td>\n",
       "      <td>1015.63</td>\n",
       "    </tr>\n",
       "    <tr>\n",
       "      <th>2</th>\n",
       "      <td>9.377778</td>\n",
       "      <td>0.89</td>\n",
       "      <td>3.9284</td>\n",
       "      <td>204</td>\n",
       "      <td>14.9569</td>\n",
       "      <td>1015.94</td>\n",
       "    </tr>\n",
       "    <tr>\n",
       "      <th>3</th>\n",
       "      <td>5.944444</td>\n",
       "      <td>0.83</td>\n",
       "      <td>14.1036</td>\n",
       "      <td>269</td>\n",
       "      <td>15.8263</td>\n",
       "      <td>1016.41</td>\n",
       "    </tr>\n",
       "    <tr>\n",
       "      <th>4</th>\n",
       "      <td>6.977778</td>\n",
       "      <td>0.83</td>\n",
       "      <td>11.0446</td>\n",
       "      <td>259</td>\n",
       "      <td>15.8263</td>\n",
       "      <td>1016.51</td>\n",
       "    </tr>\n",
       "  </tbody>\n",
       "</table>\n",
       "</div>"
      ],
      "text/plain": [
       "   Apparent Temperature  Humidity  Wind Speed (km/h)  Wind Bearing (degrees)  \\\n",
       "0              7.388889      0.89            14.1197                     251   \n",
       "1              7.227778      0.86            14.2646                     259   \n",
       "2              9.377778      0.89             3.9284                     204   \n",
       "3              5.944444      0.83            14.1036                     269   \n",
       "4              6.977778      0.83            11.0446                     259   \n",
       "\n",
       "   Visibility (km)  Pressure (millibars)  \n",
       "0          15.8263               1015.13  \n",
       "1          15.8263               1015.63  \n",
       "2          14.9569               1015.94  \n",
       "3          15.8263               1016.41  \n",
       "4          15.8263               1016.51  "
      ]
     },
     "execution_count": 12,
     "metadata": {},
     "output_type": "execute_result"
    }
   ],
   "source": [
    "weather_label = weather[\"Temperature\"]\n",
    "weather_features = weather.drop(\"Temperature\", axis=1)\n",
    "weather_features_numerical = weather_features.drop(\"Summary\", axis=1)\n",
    "weather_features_numerical.head()"
   ]
  },
  {
   "cell_type": "code",
   "execution_count": 13,
   "metadata": {},
   "outputs": [],
   "source": [
    "from sklearn.model_selection import train_test_split\n",
    "from pandas.plotting import scatter_matrix # optional\n",
    "from sklearn.preprocessing import Imputer\n",
    "from sklearn.preprocessing import LabelEncoder\n",
    "from sklearn.preprocessing import OneHotEncoder\n",
    "from sklearn.pipeline import Pipeline\n",
    "from sklearn.preprocessing import StandardScaler\n",
    "\n",
    "\n",
    "class DataFrameSelector(BaseEstimator, TransformerMixin):\n",
    "    def __init__(self, attribute_names):\n",
    "        self.attribute_names = attribute_names\n",
    "    def fit(self, X, y=None):\n",
    "        return self\n",
    "    def transform(self, X):\n",
    "        return X[self.attribute_names].values\n",
    "    \n",
    "num_attributes = list(weather_features_numerical)\n",
    "cat_attributes = [\"Summary\"]\n",
    "\n",
    "num_pipeline = Pipeline([\n",
    "        ('selector', DataFrameSelector(num_attributes)),\n",
    "        ('imputer', Imputer(strategy=\"median\")),\n",
    "        ('std_scaler', StandardScaler()),\n",
    "    ])\n",
    "\n",
    "cat_pipeline = Pipeline([\n",
    "        ('selector', DataFrameSelector(cat_attributes)),\n",
    "        ('cat_encoder', OneHotEncoder(sparse=False)),\n",
    "    ])\n",
    "\n",
    "full_pipeline = FeatureUnion(transformer_list=[\n",
    "        (\"num_pipeline\", num_pipeline),\n",
    "        (\"cat_pipeline\", cat_pipeline),\n",
    "    ])\n",
    "\n",
    "weather_features = full_pipeline.fit_transform(weather_features)\n",
    "#data_set_without_price.shape[1]\n",
    "\n",
    "#taking test train dataset\n",
    "X_train,X_test,y_train,y_test = train_test_split(weather_features,weather_label,test_size=0.2,random_state=42)"
   ]
  },
  {
   "cell_type": "markdown",
   "metadata": {},
   "source": [
    "## IMPLEMENTATION OF GRADIENT DESCENT"
   ]
  },
  {
   "cell_type": "code",
   "execution_count": 14,
   "metadata": {},
   "outputs": [
    {
     "name": "stdout",
     "output_type": "stream",
     "text": [
      "Prediction values predicte by my gradient descent: [28.03321285  9.61190675 15.14199688 ... 12.06328937 24.92118493\n",
      " 19.53027078]\n"
     ]
    }
   ],
   "source": [
    "class MyLinearRegression:\n",
    "    opt_learning_val = [[] for i in range(3)]\n",
    "    all_learning_vals = [0.001, 0.01, 0.1]\n",
    "    count = -1\n",
    "    def __int__ (self):\n",
    "        self.theta = 0; # parameter vector;\n",
    "        self.alpha = 0; # learning rate\n",
    "        self.cost  = 0; # cost function\n",
    "        self.gradient_cost = 0\n",
    "        self.y_predict = 0\n",
    "        self.X_b = 0\n",
    "        self.X_new = 0\n",
    "       \n",
    "        \n",
    "    def fitUsingGradientDescent(self, X_train, y_train):\n",
    "        # implementation code here\n",
    "        self.theta = 0\n",
    "        self.X_b = np.c_[np.ones((len(X_train), 1)), X_train]\n",
    "        for i in range(len(self.all_learning_vals)):\n",
    "            self.theta= np.random.random(X_train.shape[1]+1)\n",
    "            self.count =  self.count+1\n",
    "            self.gradientDescent(X_train, y_train,self.theta,self.all_learning_vals[i],1000)\n",
    "    \n",
    "    def add_iteration(self,value1,value2):\n",
    "        self.opt_learning_val[value1].append(value2)\n",
    "        \n",
    "    def gradientDescent(self, X_train, y_train, theta, alpha, iters):\n",
    "        for iteration in range(iters):\n",
    "            self.add_iteration(self.count,self.computeCostFunc( X_train, y_train, self.theta))\n",
    "            self.theta = self.theta - alpha * self.gradient_cost\n",
    "           \n",
    "    def computeCostFunc(self, X_train, y_train, theta): \n",
    "        self.gradient_cost =  2/len(X_train)* self.X_b.T.dot(self.X_b.dot(theta) - y_train)\n",
    "        temp =  np.dot(self.X_b, theta) - y_train\n",
    "        return np.sum(np.power(temp, 2)) / len(X_train)\n",
    "        \n",
    "    def predict(self, X_test):\n",
    "        self.X_new = 0\n",
    "        self.y_predict = 0\n",
    "        self.X_new = np.c_[np.ones((len(X_test), 1)), X_test]\n",
    "        self.y_predict = self.X_new.dot(self.theta)\n",
    "        return self.y_predict\n",
    "     \n",
    "    def fitUsingNormalEquation(self, X_train, y_train):\n",
    "        self.X_b = np.c_[np.ones((len(X_train), 1)), X_train]\n",
    "        self.theta = np.linalg.pinv(self.X_b.T.dot(self.X_b)).dot(self.X_b.T).dot(y_train)\n",
    "\n",
    "myGradientDescentModel = MyLinearRegression()\n",
    "myGradientDescentModel.fitUsingGradientDescent(X_train, y_train)\n",
    "y_predict_myGradient = myGradientDescentModel.predict(X_test)\n",
    "print(\"Prediction values predicte by my gradient descent:\",y_predict_myGradient)   "
   ]
  },
  {
   "cell_type": "code",
   "execution_count": 15,
   "metadata": {},
   "outputs": [
    {
     "data": {
      "text/plain": [
       "Text(0.5,1,'Error vs. Training Iterations')"
      ]
     },
     "execution_count": 15,
     "metadata": {},
     "output_type": "execute_result"
    },
    {
     "data": {
      "image/png": "[encoded data removed]",
      "text/plain": [
       "<Figure size 432x288 with 1 Axes>"
      ]
     },
     "metadata": {},
     "output_type": "display_data"
    }
   ],
   "source": [
    "color = ['c','m','b']\n",
    "for i in range (len(myGradientDescentModel.all_learning_vals)):\n",
    "    y = myGradientDescentModel.opt_learning_val[i]\n",
    "    x = [i for i in range(len(y))]\n",
    "    plt.plot(x,y,color[i])\n",
    "    \n",
    "plt.xlabel('Iterations')  \n",
    "plt.ylabel('Cost')  \n",
    "plt.title('Error vs. Training Iterations')  "
   ]
  },
  {
   "cell_type": "markdown",
   "metadata": {},
   "source": [
    "## IMPLEMENTATION OF THE NORMAL EQUATION\n",
    "$\n",
    "    \\mathbf{\\theta} = ({\\mathbf{X}^{T}\\mathbf{X}})^{-1}\\mathbf{X}^{T}\\mathbf{y}.\n",
    "$"
   ]
  },
  {
   "cell_type": "code",
   "execution_count": 16,
   "metadata": {},
   "outputs": [
    {
     "name": "stdout",
     "output_type": "stream",
     "text": [
      "Predictions using Normal Equation: [28.01863978  9.59436683 15.13574617 ... 12.06135252 24.89294655\n",
      " 19.50358912]\n"
     ]
    }
   ],
   "source": [
    "myNormalEquationModel = MyLinearRegression()\n",
    "myNormalEquationModel.fitUsingNormalEquation(X_train, y_train)\n",
    "y_predict_normalEquation = myNormalEquationModel.predict(X_test)\n",
    "print(\"Predictions using Normal Equation:\",y_predict_normalEquation)"
   ]
  },
  {
   "cell_type": "markdown",
   "metadata": {},
   "source": [
    "## COMPARISON OF DIFFERENT IMPLEMENTATIONS"
   ]
  },
  {
   "cell_type": "code",
   "execution_count": 17,
   "metadata": {},
   "outputs": [
    {
     "name": "stdout",
     "output_type": "stream",
     "text": [
      "Predictions predicted by Linear Regression: [28.02148438  9.5871582  15.13330078 ... 12.06616211 24.89501953\n",
      " 19.50024414]\n"
     ]
    }
   ],
   "source": [
    "from sklearn.linear_model import LinearRegression\n",
    "\n",
    "linear_regression = LinearRegression()\n",
    "linear_regression.fit(X_train, y_train)\n",
    "y_predict_linearRegression = linear_regression.predict(X_test)\n",
    "print(\"Predictions predicted by Linear Regression:\", y_predict_linearRegression)"
   ]
  },
  {
   "cell_type": "code",
   "execution_count": 18,
   "metadata": {
    "scrolled": true
   },
   "outputs": [
    {
     "name": "stdout",
     "output_type": "stream",
     "text": [
      "SGD rmse: 0.9473602875592684\n",
      "Gradient_descent rmse: 0.9468098336154136\n",
      "normal_equation_rmse: 0.9404960982070465\n"
     ]
    },
    {
     "name": "stderr",
     "output_type": "stream",
     "text": [
      "C:\\Users\\BAHMED\\Miniconda3\\lib\\site-packages\\sklearn\\linear_model\\stochastic_gradient.py:128: FutureWarning: max_iter and tol parameters have been added in <class 'sklearn.linear_model.stochastic_gradient.SGDRegressor'> in 0.19. If both are left unset, they default to max_iter=5 and tol=None. If tol is not None, max_iter defaults to max_iter=1000. From 0.21, default max_iter will be 1000, and default tol will be 1e-3.\n",
      "  \"and default tol will be 1e-3.\" % type(self), FutureWarning)\n"
     ]
    }
   ],
   "source": [
    "from sklearn.metrics import mean_squared_error\n",
    "\n",
    "# Use the built-in SGD Regressor model\n",
    "from sklearn.linear_model import SGDRegressor\n",
    "mySGDModel = SGDRegressor()\n",
    "mySGDModel.fit(X_train,y_train)\n",
    "y_predict = mySGDModel.predict(X_test)\n",
    "\n",
    "mse = mean_squared_error(y_test, y_predict)\n",
    "mySGDModel_rmse = np.sqrt(mse)\n",
    "print('SGD rmse: '+str(mySGDModel_rmse))\n",
    "\n",
    "mse = mean_squared_error(y_test, y_predict_myGradient)\n",
    "myGradientDescentModel_rmse = np.sqrt(mse)\n",
    "print('Gradient_descent rmse: '+str(myGradientDescentModel_rmse))\n",
    "\n",
    "mse = mean_squared_error(y_test, y_predict_normalEquation)\n",
    "myNormalEquationModel_rmse = np.sqrt(mse)\n",
    "print('normal_equation_rmse: '+str(myNormalEquationModel_rmse))\n"
   ]
  }
 ],
 "metadata": {
  "kernelspec": {
   "display_name": "Python 3",
   "language": "python",
   "name": "python3"
  },
  "language_info": {
   "codemirror_mode": {
    "name": "ipython",
    "version": 3
   },
   "file_extension": ".py",
   "mimetype": "text/x-python",
   "name": "python",
   "nbconvert_exporter": "python",
   "pygments_lexer": "ipython3",
   "version": "3.6.5"
  }
 },
 "nbformat": 4,
 "nbformat_minor": 2
}
